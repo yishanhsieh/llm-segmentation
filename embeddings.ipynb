{
 "cells": [
  {
   "cell_type": "code",
   "execution_count": 3,
   "metadata": {},
   "outputs": [],
   "source": [
    "import pandas as pd\n",
    "import nltk\n",
    "from nltk.tokenize import word_tokenize\n",
    "import gensim\n",
    "from gensim.models import Word2Vec\n",
    "import numpy as np\n",
    "import torch\n",
    "\n",
    "# pip install gensim nltk\n",
    "# Tutorial from NLTK: https://www.nltk.org/data.html\n",
    "# train the word2vec model that learns the word meaning in the bubble tea reviews"
   ]
  },
  {
   "cell_type": "code",
   "execution_count": 4,
   "metadata": {},
   "outputs": [
    {
     "name": "stderr",
     "output_type": "stream",
     "text": [
      "[nltk_data] Downloading package punkt to\n",
      "[nltk_data]     C:\\Users\\yisha\\AppData\\Roaming\\nltk_data...\n",
      "[nltk_data]   Package punkt is already up-to-date!\n",
      "[nltk_data] Downloading package punkt_tab to\n",
      "[nltk_data]     C:\\Users\\yisha\\AppData\\Roaming\\nltk_data...\n",
      "[nltk_data]   Package punkt_tab is already up-to-date!\n"
     ]
    },
    {
     "data": {
      "text/plain": [
       "True"
      ]
     },
     "execution_count": 4,
     "metadata": {},
     "output_type": "execute_result"
    }
   ],
   "source": [
    "# nltk.download() # this one runs endless\n",
    "nltk.download('punkt') \n",
    "nltk.download('punkt_tab')\n",
    "# punkt explains: https://www.askpython.com/python-modules/nltk-punkt"
   ]
  },
  {
   "cell_type": "code",
   "execution_count": 5,
   "metadata": {},
   "outputs": [],
   "source": [
    "df = pd.read_csv(\"dataset/All Reviews.csv\")\n",
    "reviews = df[\"Reviews\"]"
   ]
  },
  {
   "cell_type": "markdown",
   "metadata": {},
   "source": [
    "### Word2Vec\n",
    "- tutorial: https://radimrehurek.com/gensim/models/word2vec.html"
   ]
  },
  {
   "cell_type": "code",
   "execution_count": 7,
   "metadata": {},
   "outputs": [],
   "source": [
    "def preprocess(text):\n",
    "    tokens = word_tokenize(text.lower())\n",
    "    return [word for word in tokens if word.isalpha()] # if word is alphabet letters\n",
    "\n",
    "tokenized_reviews = []\n",
    "# tokenize each review\n",
    "for review in reviews:\n",
    "    tokenized_reviews.append(preprocess(review))\n",
    "\n",
    "# tokenized_reviews\n",
    "# [['babo', 'tea'],['I','love', 'this']... ]    "
   ]
  },
  {
   "cell_type": "code",
   "execution_count": 8,
   "metadata": {},
   "outputs": [],
   "source": [
    "w2v_model = Word2Vec(sentences=tokenized_reviews, vector_size=100, window=5, min_count=2, workers=4)"
   ]
  },
  {
   "cell_type": "code",
   "execution_count": 9,
   "metadata": {},
   "outputs": [],
   "source": [
    "# This func transfers review tokens into vectors\n",
    "def get_review_vector(tokens, model):\n",
    "    \n",
    "    # only keep the word in W2V model's vocabulary\n",
    "    recognized_word_in_review= []\n",
    "    word_vector = []\n",
    "\n",
    "    for w in tokens:\n",
    "        if w in model.wv.key_to_index: # {'the': 0, 'and': 1, 'i': 2,...}\n",
    "            recognized_word_in_review.append(w)\n",
    "\n",
    "    # if a review contains no model vocabuary, set its vector 0\n",
    "    if len(recognized_word_in_review) == 0:\n",
    "        return np.zeros(model.vector_size)\n",
    "\n",
    "    # if has value, get the word vector and calculate the avg\n",
    "    for w in recognized_word_in_review:\n",
    "        word_vector.append(model.wv[w])\n",
    "\n",
    "    review_vector = np.mean(word_vector, axis = 0)\n",
    "    return review_vector"
   ]
  },
  {
   "cell_type": "code",
   "execution_count": 10,
   "metadata": {},
   "outputs": [],
   "source": [
    "review_vectors = []  \n",
    "for tokens in tokenized_reviews:\n",
    "    review_vector = get_review_vector(tokens, w2v_model)\n",
    "    review_vectors.append(review_vector)"
   ]
  },
  {
   "cell_type": "code",
   "execution_count": 11,
   "metadata": {},
   "outputs": [
    {
     "name": "stdout",
     "output_type": "stream",
     "text": [
      "(607, 100)\n"
     ]
    }
   ],
   "source": [
    "review_vectors = np.array(review_vectors) #convert it into a np array\n",
    "print(review_vectors.shape)\n",
    "# 607 reviews, each review is represented as 100-D vector"
   ]
  },
  {
   "cell_type": "markdown",
   "metadata": {},
   "source": [
    "Normalize rating & Reshape dimentions: convert 1-5 scale into 0~1"
   ]
  },
  {
   "cell_type": "code",
   "execution_count": 16,
   "metadata": {},
   "outputs": [
    {
     "name": "stdout",
     "output_type": "stream",
     "text": [
      "0      5\n",
      "1      5\n",
      "2      5\n",
      "3      5\n",
      "4      5\n",
      "      ..\n",
      "602    5\n",
      "603    5\n",
      "604    4\n",
      "605    4\n",
      "606    5\n",
      "Name: Rating, Length: 607, dtype: int64\n"
     ]
    },
    {
     "data": {
      "text/plain": [
       "(607, 1)"
      ]
     },
     "execution_count": 16,
     "metadata": {},
     "output_type": "execute_result"
    }
   ],
   "source": [
    "ratings = df[\"Rating\"]\n",
    "print(ratings)\n",
    "normalized_ratings = np.array(ratings) / 5\n",
    "\n",
    "# reshape normalized ratings into (607, 1) \n",
    "reshaped_ratings = normalized_ratings.reshape(-1,1)\n",
    "reshaped_ratings.shape"
   ]
  },
  {
   "cell_type": "markdown",
   "metadata": {},
   "source": [
    "Combine normalized ratings with review vectors"
   ]
  },
  {
   "cell_type": "code",
   "execution_count": 13,
   "metadata": {},
   "outputs": [
    {
     "data": {
      "text/plain": [
       "(607, 101)"
      ]
     },
     "execution_count": 13,
     "metadata": {},
     "output_type": "execute_result"
    }
   ],
   "source": [
    "w2v_rating_combined_vectors = np.hstack((review_vectors, reshaped_ratings))\n",
    "w2v_rating_combined_vectors.shape"
   ]
  },
  {
   "cell_type": "markdown",
   "metadata": {},
   "source": [
    "### TF-IDF"
   ]
  },
  {
   "cell_type": "code",
   "execution_count": 14,
   "metadata": {},
   "outputs": [
    {
     "data": {
      "text/plain": [
       "(607, 101)"
      ]
     },
     "execution_count": 14,
     "metadata": {},
     "output_type": "execute_result"
    }
   ],
   "source": [
    "from sklearn.feature_extraction.text import TfidfVectorizer\n",
    "\n",
    "vectorizer = TfidfVectorizer(max_features=300, stop_words='english')\n",
    "tfidf_matrix = vectorizer.fit_transform(reviews)\n",
    "tfidf_vectors = tfidf_matrix.toarray()\n",
    "\n",
    "tfidf_rating_combined_vectors = np.hstack((review_vectors, reshaped_ratings))\n",
    "tfidf_rating_combined_vectors.shape\n"
   ]
  },
  {
   "cell_type": "markdown",
   "metadata": {},
   "source": [
    "### Llama 2-7b-chat-hf\n",
    "- meta download: https://www.llama.com/llama-downloads/\n",
    "- Huggingface: https://huggingface.co/meta-llama/Llama-2-7b-chat-hf\n",
    "- [Github tutorial](https://github.com/meta-llama/llama-models?fbclid=IwZXh0bgNhZW0CMTAAAR5flYgamnz7bViaAtMQsPvPWGc7jCd69MsAmom7zGFl6Mb9ckvqDYBeACJirg_aem_vjalf1yaPdUasJh9lNKd_g)"
   ]
  },
  {
   "cell_type": "code",
   "execution_count": null,
   "metadata": {},
   "outputs": [],
   "source": [
    "# Load model directly\n",
    "from transformers import AutoTokenizer, AutoModelForCausalLM\n",
    "\n",
    "llama_tokenizer = AutoTokenizer.from_pretrained(\"meta-llama/Llama-2-7b-chat-hf\")\n",
    "llama_model = AutoModelForCausalLM.from_pretrained(\"meta-llama/Llama-2-7b-chat-hf\")\n",
    "llama_model.config.output_hidden_states = True\n",
    "# model.eval()"
   ]
  },
  {
   "cell_type": "markdown",
   "metadata": {},
   "source": [
    "Generate vectors by using Transformers"
   ]
  },
  {
   "cell_type": "code",
   "execution_count": 8,
   "metadata": {},
   "outputs": [],
   "source": [
    "def get_llama_review_vector(review, tokenizer, model):\n",
    "    \n",
    "    input = tokenizer(review, return_tensors='pt', truncation=True)\n",
    "\n",
    "    with torch.no_grad():\n",
    "        outputs = model(**input)\n",
    "\n",
    "    hidden_states = outputs.hidden_states[-1]  #get hidden states from the last layer\n",
    "\n",
    "    vector = hidden_states.mean(dim=1).squeeze().numpy()  #average all tokens\n",
    "\n",
    "    return vector\n"
   ]
  },
  {
   "cell_type": "code",
   "execution_count": null,
   "metadata": {},
   "outputs": [],
   "source": [
    "all_llama_vectors = []\n",
    "\n",
    "for review in reviews:\n",
    "    vector = get_review_vector(review, llama_tokenizer, llama_model)\n",
    "    all_llama_vectors.append(vector)\n"
   ]
  },
  {
   "cell_type": "markdown",
   "metadata": {},
   "source": [
    "### Falcon-7b\n",
    "- hf: https://huggingface.co/tiiuae/falcon-7b"
   ]
  },
  {
   "cell_type": "code",
   "execution_count": null,
   "metadata": {},
   "outputs": [],
   "source": [
    "# Load model directly\n",
    "from transformers import AutoTokenizer, AutoModelForCausalLM\n",
    "\n",
    "falcon_tokenizer = AutoTokenizer.from_pretrained(\"tiiuae/falcon-7b\", trust_remote_code=True)\n",
    "falcon_model = AutoModelForCausalLM.from_pretrained(\"tiiuae/falcon-7b\", trust_remote_code=True)\n",
    "falcon_model.config.output_hidden_states = True"
   ]
  },
  {
   "cell_type": "code",
   "execution_count": null,
   "metadata": {},
   "outputs": [],
   "source": [
    "all_falcon_vectors = []\n",
    "# only use Indianapolis data - 81 entries\n",
    "\n",
    "for review in reviews:\n",
    "    vector = get_review_vector(review, falcon_tokenizer, falcon_model)\n",
    "    all_falcon_vectors.append(vector)\n"
   ]
  },
  {
   "cell_type": "markdown",
   "metadata": {},
   "source": [
    "### K-means Clustering"
   ]
  },
  {
   "cell_type": "code",
   "execution_count": null,
   "metadata": {},
   "outputs": [],
   "source": []
  },
  {
   "cell_type": "code",
   "execution_count": null,
   "metadata": {},
   "outputs": [],
   "source": []
  }
 ],
 "metadata": {
  "kernelspec": {
   "display_name": "Python 3",
   "language": "python",
   "name": "python3"
  },
  "language_info": {
   "codemirror_mode": {
    "name": "ipython",
    "version": 3
   },
   "file_extension": ".py",
   "mimetype": "text/x-python",
   "name": "python",
   "nbconvert_exporter": "python",
   "pygments_lexer": "ipython3",
   "version": "3.12.10"
  }
 },
 "nbformat": 4,
 "nbformat_minor": 2
}
