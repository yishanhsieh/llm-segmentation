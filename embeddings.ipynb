{
 "cells": [
  {
   "cell_type": "code",
   "execution_count": 10,
   "metadata": {},
   "outputs": [],
   "source": [
    "import pandas as pd\n",
    "import nltk\n",
    "from nltk.tokenize import word_tokenize\n",
    "import gensim\n",
    "from gensim.models import Word2Vec\n",
    "import numpy as np\n",
    "\n",
    "# pip install gensim nltk\n",
    "# Tutorial from NLTK: https://www.nltk.org/data.html\n",
    "# train the word2vec model that learns the word meaning in the bubble tea reviews"
   ]
  },
  {
   "cell_type": "code",
   "execution_count": 3,
   "metadata": {},
   "outputs": [
    {
     "name": "stderr",
     "output_type": "stream",
     "text": [
      "[nltk_data] Downloading package punkt to\n",
      "[nltk_data]     C:\\Users\\yisha\\AppData\\Roaming\\nltk_data...\n",
      "[nltk_data]   Package punkt is already up-to-date!\n",
      "[nltk_data] Downloading package punkt_tab to\n",
      "[nltk_data]     C:\\Users\\yisha\\AppData\\Roaming\\nltk_data...\n",
      "[nltk_data]   Package punkt_tab is already up-to-date!\n"
     ]
    },
    {
     "data": {
      "text/plain": [
       "True"
      ]
     },
     "execution_count": 3,
     "metadata": {},
     "output_type": "execute_result"
    }
   ],
   "source": [
    "# nltk.download() # this one runs endless\n",
    "nltk.download('punkt') \n",
    "nltk.download('punkt_tab')\n",
    "# punkt explains: https://www.askpython.com/python-modules/nltk-punkt"
   ]
  },
  {
   "cell_type": "code",
   "execution_count": null,
   "metadata": {},
   "outputs": [],
   "source": [
    "df = pd.read_csv(\"dataset/All Reviews.csv\")\n",
    "reviews = df[\"Reviews\"]\n"
   ]
  },
  {
   "cell_type": "code",
   "execution_count": 21,
   "metadata": {},
   "outputs": [],
   "source": [
    "def preprocess(text):\n",
    "    tokens = word_tokenize(text.lower())\n",
    "    return [word for word in tokens if word.isalpha()] # if word is alphabet letters\n",
    "\n",
    "tokenized_reviews = []\n",
    "# tokenize each review\n",
    "for review in reviews:\n",
    "    tokenized_reviews.append(preprocess(review))\n",
    "\n",
    "# tokenized_reviews\n",
    "# [['babo', 'tea'],['I','love', 'this']... ]\n",
    "\n",
    "    "
   ]
  },
  {
   "cell_type": "markdown",
   "metadata": {},
   "source": [
    "Word2Vec"
   ]
  },
  {
   "cell_type": "code",
   "execution_count": 41,
   "metadata": {},
   "outputs": [],
   "source": [
    "w2v_model = Word2Vec(sentences=tokenized_reviews, vector_size=100, window=5, min_count=2, workers=4)"
   ]
  },
  {
   "cell_type": "code",
   "execution_count": 15,
   "metadata": {},
   "outputs": [],
   "source": [
    "# model.wv.key_to_index\n",
    "# {'the': 0, 'and': 1, 'i': 2,...}"
   ]
  },
  {
   "cell_type": "code",
   "execution_count": null,
   "metadata": {},
   "outputs": [],
   "source": [
    "# tutorial: https://radimrehurek.com/gensim/models/word2vec.html"
   ]
  },
  {
   "cell_type": "code",
   "execution_count": 42,
   "metadata": {},
   "outputs": [],
   "source": [
    "# This func transfers review tokens into vectors\n",
    "def get_review_vector(tokens, model):\n",
    "    \n",
    "    # only keep the word in W2V model's vocabulary\n",
    "    recognized_word_in_review= []\n",
    "    word_vector = []\n",
    "\n",
    "    for w in tokens:\n",
    "        if w in model.wv.key_to_index:\n",
    "            recognized_word_in_review.append(w)\n",
    "\n",
    "    # if a review contains no model vocabuary, set its vector 0\n",
    "    if len(recognized_word_in_review) == 0:\n",
    "        return np.zeros(model.vector_size)\n",
    "\n",
    "    # if has value, get the word vector and calculate the avg\n",
    "    for w in recognized_word_in_review:\n",
    "        word_vector.append(model.wv[w])\n",
    "\n",
    "    review_vector = np.mean(word_vector, axis = 0)\n",
    "    return review_vector"
   ]
  },
  {
   "cell_type": "code",
   "execution_count": 43,
   "metadata": {},
   "outputs": [],
   "source": [
    "review_vectors = []  \n",
    "for tokens in tokenized_reviews:\n",
    "    review_vector = get_review_vector(tokens, w2v_model)\n",
    "    review_vectors.append(review_vector)"
   ]
  },
  {
   "cell_type": "code",
   "execution_count": 44,
   "metadata": {},
   "outputs": [
    {
     "name": "stdout",
     "output_type": "stream",
     "text": [
      "(607, 100)\n"
     ]
    }
   ],
   "source": [
    "review_vectors = np.array(review_vectors) #convert it into a np array\n",
    "print(review_vectors.shape)\n",
    "# 607 reviews, each review is represented as 100-D vector"
   ]
  },
  {
   "cell_type": "markdown",
   "metadata": {},
   "source": [
    "Normalize rating & Reshape dimentions: convert 1-5 scale into 0~1"
   ]
  },
  {
   "cell_type": "code",
   "execution_count": 45,
   "metadata": {},
   "outputs": [
    {
     "data": {
      "text/plain": [
       "(607, 1)"
      ]
     },
     "execution_count": 45,
     "metadata": {},
     "output_type": "execute_result"
    }
   ],
   "source": [
    "ratings = df[\"Rating\"]\n",
    "normalized_ratings = np.array(ratings) / 5\n",
    "\n",
    "# reshape normalized ratings into (607, 1) \n",
    "reshaped_ratings = normalized_ratings.reshape(-1,1)\n",
    "reshaped_ratings.shape"
   ]
  },
  {
   "cell_type": "markdown",
   "metadata": {},
   "source": [
    "Combine normalized ratings with review vectors"
   ]
  },
  {
   "cell_type": "code",
   "execution_count": 48,
   "metadata": {},
   "outputs": [
    {
     "data": {
      "text/plain": [
       "(607, 101)"
      ]
     },
     "execution_count": 48,
     "metadata": {},
     "output_type": "execute_result"
    }
   ],
   "source": [
    "final_review_vectors = np.hstack((review_vectors, reshaped_ratings))\n",
    "final_review_vectors.shape"
   ]
  }
 ],
 "metadata": {
  "kernelspec": {
   "display_name": "Python 3",
   "language": "python",
   "name": "python3"
  },
  "language_info": {
   "codemirror_mode": {
    "name": "ipython",
    "version": 3
   },
   "file_extension": ".py",
   "mimetype": "text/x-python",
   "name": "python",
   "nbconvert_exporter": "python",
   "pygments_lexer": "ipython3",
   "version": "3.12.10"
  }
 },
 "nbformat": 4,
 "nbformat_minor": 2
}
